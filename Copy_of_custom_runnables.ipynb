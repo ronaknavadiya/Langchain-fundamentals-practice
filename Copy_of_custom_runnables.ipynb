{
  "nbformat": 4,
  "nbformat_minor": 0,
  "metadata": {
    "colab": {
      "provenance": [],
      "authorship_tag": "ABX9TyOy6JeRbiCEde/I5XHYaDGC",
      "include_colab_link": true
    },
    "kernelspec": {
      "name": "python3",
      "display_name": "Python 3"
    },
    "language_info": {
      "name": "python"
    }
  },
  "cells": [
    {
      "cell_type": "markdown",
      "metadata": {
        "id": "view-in-github",
        "colab_type": "text"
      },
      "source": [
        "<a href=\"https://colab.research.google.com/github/ronaknavadiya/Langchain-fundamentals-practice/blob/main/Copy_of_custom_runnables.ipynb\" target=\"_parent\"><img src=\"https://colab.research.google.com/assets/colab-badge.svg\" alt=\"Open In Colab\"/></a>"
      ]
    },
    {
      "cell_type": "code",
      "execution_count": null,
      "metadata": {
        "id": "tuJNRCCxgYBr"
      },
      "outputs": [],
      "source": [
        "from abc import ABC, abstractmethod\n",
        "import random"
      ]
    },
    {
      "cell_type": "code",
      "source": [
        "class Runnable(ABC):\n",
        "\n",
        "    @abstractmethod\n",
        "    def invoke(input_data):\n",
        "        pass"
      ],
      "metadata": {
        "id": "WWPDBKAggaat"
      },
      "execution_count": null,
      "outputs": []
    },
    {
      "cell_type": "code",
      "source": [
        "class CustomLLM(Runnable):\n",
        "\n",
        "    def __init__(self):\n",
        "        print(\"Custom LLM Created\")\n",
        "\n",
        "    def invoke(self, prompt):\n",
        "        response_list = [\n",
        "            \"This is langchain runnable custom implementation\",\n",
        "            \"Ottawa is capital of Canada\"\n",
        "            \"AI is going to boom in coming years\"\n",
        "        ]\n",
        "\n",
        "        return random.choice(response_list)\n"
      ],
      "metadata": {
        "id": "9u6LCXALgehI"
      },
      "execution_count": null,
      "outputs": []
    },
    {
      "cell_type": "code",
      "source": [
        "class CustomPromtTemplate(Runnable):\n",
        "\n",
        "    def __init__(self, template, input_variables):\n",
        "        self.template = template\n",
        "        self.input_variables = input_variables\n",
        "\n",
        "    def invoke(self, input_dict):\n",
        "        return self.template.format(**input_dict)"
      ],
      "metadata": {
        "id": "3tn-xJJHgvH4"
      },
      "execution_count": null,
      "outputs": []
    },
    {
      "cell_type": "code",
      "source": [
        "class RunnableConnector(Runnable):\n",
        "\n",
        "  def __init__(self, runnable_list) :\n",
        "    self.runnable_list = runnable_list\n",
        "\n",
        "  def invoke(self, input_data):\n",
        "\n",
        "    for runnable in self.runnable_list:\n",
        "      input_data = runnable.invoke(input_data)\n",
        "\n",
        "    return input_data"
      ],
      "metadata": {
        "id": "Hx6IpoTyhIKG"
      },
      "execution_count": null,
      "outputs": []
    },
    {
      "cell_type": "code",
      "source": [
        "llm = CustomLLM()"
      ],
      "metadata": {
        "colab": {
          "base_uri": "https://localhost:8080/"
        },
        "id": "Xf-3Oovwgh0O",
        "outputId": "769df848-cd57-4a31-bb61-dc47aa1fbcb3"
      },
      "execution_count": null,
      "outputs": [
        {
          "output_type": "stream",
          "name": "stdout",
          "text": [
            "Custom LLM Created\n"
          ]
        }
      ]
    },
    {
      "cell_type": "code",
      "source": [
        "template = CustomPromtTemplate(template=\"How {subject} is going to perform\", input_variables=[\"subject\"])"
      ],
      "metadata": {
        "id": "zc69JJ2XgrA6"
      },
      "execution_count": null,
      "outputs": []
    },
    {
      "cell_type": "code",
      "source": [
        "chain = RunnableConnector([template, llm])"
      ],
      "metadata": {
        "id": "TPn9BnrFhoyL"
      },
      "execution_count": null,
      "outputs": []
    },
    {
      "cell_type": "code",
      "source": [
        "chain.invoke({\"subject\":\"AI\"})"
      ],
      "metadata": {
        "colab": {
          "base_uri": "https://localhost:8080/",
          "height": 36
        },
        "id": "T1Cw-nfthry_",
        "outputId": "66ce7d9d-766a-4737-8f68-46d6131af27e"
      },
      "execution_count": null,
      "outputs": [
        {
          "output_type": "execute_result",
          "data": {
            "text/plain": [
              "'Ottawa is capital of CanadaAI is going to boom in coming years'"
            ],
            "application/vnd.google.colaboratory.intrinsic+json": {
              "type": "string"
            }
          },
          "metadata": {},
          "execution_count": 33
        }
      ]
    }
  ]
}